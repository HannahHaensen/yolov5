{
 "cells": [
  {
   "cell_type": "code",
   "execution_count": 1,
   "metadata": {},
   "outputs": [],
   "source": [
    "lego = [{'xCenter': 1927.5, 'yCenter': 667.0, 'width': 211.0, 'height': 634.0, 'classId': 'bottle', 'className': 'bottle'}, {'xCenter': 2784.5, 'yCenter': 452.5, 'width': 241.0, 'height': 247.0, 'classId': 'cup', 'className': 'cup'}, {'xCenter': 2200.5, 'yCenter': 1813.0, 'width': 931.0, 'height': 766.0, 'classId': 'person', 'className': 'person'}, {'xCenter': 896.5, 'yCenter': 489.5, 'width': 943.0, 'height': 341.0, 'classId': 'keyboard', 'className': 'keyboard'}]\n"
   ]
  },
  {
   "cell_type": "code",
   "execution_count": 2,
   "metadata": {},
   "outputs": [],
   "source": [
    "# Import packages\n",
    "import cv2\n",
    "import numpy as np\n",
    "\n",
    "img = cv2.imread('test.jpg')\n"
   ]
  },
  {
   "cell_type": "code",
   "execution_count": 3,
   "metadata": {},
   "outputs": [
    {
     "name": "stdout",
     "output_type": "stream",
     "text": [
      "(2196, 3904, 3)\n"
     ]
    }
   ],
   "source": [
    "print(img.shape) # Print image shape"
   ]
  },
  {
   "cell_type": "code",
   "execution_count": 4,
   "metadata": {},
   "outputs": [
    {
     "name": "stdout",
     "output_type": "stream",
     "text": [
      "{'xCenter': 1927.5, 'yCenter': 667.0, 'width': 211.0, 'height': 634.0, 'classId': 'bottle', 'className': 'bottle'}\n",
      "{'xCenter': 2784.5, 'yCenter': 452.5, 'width': 241.0, 'height': 247.0, 'classId': 'cup', 'className': 'cup'}\n",
      "{'xCenter': 896.5, 'yCenter': 489.5, 'width': 943.0, 'height': 341.0, 'classId': 'keyboard', 'className': 'keyboard'}\n"
     ]
    }
   ],
   "source": [
    "for elem in lego:\n",
    "    if elem['className'] != 'person':\n",
    "        print(elem)\n",
    "        xCenter = int(elem['xCenter'])\n",
    "        yCenter = int(elem['yCenter'])\n",
    "        width = int(elem['width'])\n",
    "        height = int(elem['height'])\n",
    "        start_point = (140, 140)\n",
    "        end_point = (500, 500)\n",
    "        color = (0, 0, 255)\n",
    "        thickness = 3\n",
    "        image_with_rectangle = cv2.rectangle(\n",
    "            img = img,\n",
    "            pt1 = start_point,\n",
    "            pt2 = end_point, \n",
    "            color = color, \n",
    "            thickness = thickness\n",
    "        )\n",
    "        cv2.imshow(\"Image with a Rectangle\", image_with_rectangle)\n",
    "        # cv2.rectangle(img, pt1=(xCenter - width / 2, yCenter - height / 2), pt2=(xCenter - width / 2, yCenter - height / 2), color=(255,0,0), thickness=10)\n"
   ]
  },
  {
   "cell_type": "code",
   "execution_count": 4,
   "metadata": {
    "pycharm": {
     "is_executing": true
    }
   },
   "outputs": [],
   "source": [
    "\n",
    "cv2.imshow(\"original\", img)\n",
    "\n",
    "\n",
    "cv2.waitKey(0)\n",
    "cv2.destroyAllWindows()"
   ]
  },
  {
   "cell_type": "code",
   "execution_count": null,
   "metadata": {
    "pycharm": {
     "is_executing": true
    }
   },
   "outputs": [],
   "source": []
  }
 ],
 "metadata": {
  "kernelspec": {
   "display_name": "Python 3 (ipykernel)",
   "language": "python",
   "name": "python3"
  },
  "language_info": {
   "codemirror_mode": {
    "name": "ipython",
    "version": 3
   },
   "file_extension": ".py",
   "mimetype": "text/x-python",
   "name": "python",
   "nbconvert_exporter": "python",
   "pygments_lexer": "ipython3",
   "version": "3.9.7"
  }
 },
 "nbformat": 4,
 "nbformat_minor": 1
}